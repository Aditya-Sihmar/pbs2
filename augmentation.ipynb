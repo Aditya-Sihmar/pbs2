{
 "cells": [
  {
   "cell_type": "code",
   "execution_count": null,
   "metadata": {},
   "outputs": [],
   "source": [
    "from PIL import Image\n",
    "import cv2\n",
    "import os\n",
    "import numpy as np\n",
    "import pandas as pd\n",
    "import skimage as sk\n",
    "import random\n",
    "from skimage import transform\n",
    "from skimage import util\n",
    "from skimage.transform import rescale, resize, downscale_local_mean\n",
    "import matplotlib.pyplot as plt\n",
    "import math"
   ]
  },
  {
   "cell_type": "code",
   "execution_count": null,
   "metadata": {},
   "outputs": [],
   "source": [
    "image_path = '/media/aditya/New Volume/Study material/Models and Datasets/SIH/New folder (5)/HELEN/training data'\n",
    "anotation_path = '/media/aditya/New Volume/Study material/Models and Datasets/SIH/New folder (5)/HELEN/annotation'\n",
    "anotations = [0 for s in range(2330)]\n",
    "image = []\n",
    "n = 0\n",
    "for anot in os.listdir(anotation_path):\n",
    "    xes = []\n",
    "    yes = []\n",
    "    f = open(os.path.join(anotation_path, anot), 'r')\n",
    "    pntr = 0\n",
    "    for line in f:\n",
    "        if pntr == 0:\n",
    "            line = line.strip(\"\\n\")\n",
    "            img = sk.io.imread(image_path + \"/\" +line +'.jpg')\n",
    "            image_resized = resize(img, (340, 255),\n",
    "                       anti_aliasing=True)\n",
    "            image.append(image_resized)\n",
    "                \n",
    "        if pntr != 0:\n",
    "            x, y = line.split(',')\n",
    "            xes.append(float(x))\n",
    "            yes.append(float(y))\n",
    "        pntr += 1\n",
    "    for s in range(len(xes)-1):\n",
    "        anotations[n].append((xes[s], yes[s]))\n",
    "    n+=1\n",
    "    "
   ]
  },
  {
   "cell_type": "code",
   "execution_count": null,
   "metadata": {},
   "outputs": [],
   "source": [
    "anotation = np.array(anotations)"
   ]
  },
  {
   "cell_type": "code",
   "execution_count": null,
   "metadata": {},
   "outputs": [],
   "source": [
    "shape"
   ]
  },
  {
   "cell_type": "code",
   "execution_count": null,
   "metadata": {},
   "outputs": [],
   "source": [
    "def get_co(lst):\n",
    "    x = []\n",
    "    y = []\n",
    "    for a, b in lst:\n",
    "        x.append(a)\n",
    "        y.append(b)\n",
    "    return x, y  "
   ]
  },
  {
   "cell_type": "code",
   "execution_count": null,
   "metadata": {},
   "outputs": [],
   "source": [
    "for s in range(20):\n",
    "    plt.imshow(image[s])\n",
    "    x,y = get_co(anotation[s])\n",
    "    plt.scatter(x,y)"
   ]
  },
  {
   "cell_type": "code",
   "execution_count": null,
   "metadata": {},
   "outputs": [],
   "source": [
    "anotation[0]"
   ]
  },
  {
   "cell_type": "code",
   "execution_count": null,
   "metadata": {},
   "outputs": [],
   "source": [
    "new_anot = np.ones([193, 2])\n",
    "for s in range(193):\n",
    "    new_anot[s][0] = -anotation[s][0] + 1936\n",
    "    new_anot[s][1] = anotation[s][1]"
   ]
  },
  {
   "cell_type": "code",
   "execution_count": null,
   "metadata": {},
   "outputs": [],
   "source": [
    "image.shape"
   ]
  },
  {
   "cell_type": "code",
   "execution_count": null,
   "metadata": {},
   "outputs": [],
   "source": [
    "def horizontal_flip(image_array, anotation):\n",
    "    # horizontal flip doesn't need skimage, it's easy as flipping the image array of pixels !\n",
    "    new_anot = np.ones([193, 2])\n",
    "    for s in range(193):\n",
    "        new_anot[s][0] = -anotation[s][0] + 1936\n",
    "        new_anot[s][1] = anotation[s][1]\n",
    "    return image_array[:, ::-1], new_anot"
   ]
  },
  {
   "cell_type": "code",
   "execution_count": null,
   "metadata": {},
   "outputs": [],
   "source": [
    "img, new_anot = horizontal_flip(image, anotation)"
   ]
  },
  {
   "cell_type": "code",
   "execution_count": null,
   "metadata": {},
   "outputs": [],
   "source": [
    "plt.imshow(img)\n",
    "x,y = get_co(new_anot)\n",
    "plt.scatter(x,y)"
   ]
  },
  {
   "cell_type": "code",
   "execution_count": null,
   "metadata": {},
   "outputs": [],
   "source": [
    "def random_rotation(image_array, anotation):\n",
    "    # pick a random degree of rotation between 25% on the left and 25% on the right\n",
    "    random_degree = random.uniform(-45, 45)\n",
    "    radian_angle = random_degree*math.pi/180\n",
    "    new_anot = np.ones([193,2])\n",
    "    x0 = image_array.shape[0]/2\n",
    "    y0 = image_array.shape[1]/2\n",
    "    for s in range(193):\n",
    "        x,y = anotation[s]\n",
    "        x_n = math.cos(radian_angle)*(x-x0) - math.sin(radian_angle)*(y-y0) + x0\n",
    "        y_n = math.sin(radian_angle)*(x-x0) + math.cos(radian_angle)*(y-y0) + y0\n",
    "        co_ord = np.array([x_n, y_n])\n",
    "        new_anot[s] = co_ord\n",
    "    return sk.transform.rotate(image_array, -random_degree), new_anot"
   ]
  },
  {
   "cell_type": "code",
   "execution_count": null,
   "metadata": {},
   "outputs": [],
   "source": [
    "img, new_anot = random_rotation(image, anotation)"
   ]
  },
  {
   "cell_type": "code",
   "execution_count": null,
   "metadata": {},
   "outputs": [],
   "source": [
    "plt.imshow(img)\n",
    "x,y = get_co(new_anot)\n",
    "plt.scatter(x,y)"
   ]
  },
  {
   "cell_type": "code",
   "execution_count": null,
   "metadata": {},
   "outputs": [],
   "source": []
  },
  {
   "cell_type": "code",
   "execution_count": null,
   "metadata": {},
   "outputs": [],
   "source": []
  },
  {
   "cell_type": "code",
   "execution_count": null,
   "metadata": {},
   "outputs": [],
   "source": []
  }
 ],
 "metadata": {
  "kernelspec": {
   "display_name": "Python 3",
   "language": "python",
   "name": "python3"
  },
  "language_info": {
   "codemirror_mode": {
    "name": "ipython",
    "version": 3
   },
   "file_extension": ".py",
   "mimetype": "text/x-python",
   "name": "python",
   "nbconvert_exporter": "python",
   "pygments_lexer": "ipython3",
   "version": "3.7.4"
  }
 },
 "nbformat": 4,
 "nbformat_minor": 4
}
