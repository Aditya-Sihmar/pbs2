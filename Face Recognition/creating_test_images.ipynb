{
 "cells": [
  {
   "cell_type": "code",
   "execution_count": 26,
   "metadata": {},
   "outputs": [
    {
     "ename": "ModuleNotFoundError",
     "evalue": "No module named 'skimage'",
     "output_type": "error",
     "traceback": [
      "\u001b[0;31m---------------------------------------------------------------------------\u001b[0m",
      "\u001b[0;31mModuleNotFoundError\u001b[0m                       Traceback (most recent call last)",
      "\u001b[0;32m<ipython-input-26-3c2ea1838c6a>\u001b[0m in \u001b[0;36m<module>\u001b[0;34m\u001b[0m\n\u001b[1;32m      3\u001b[0m \u001b[0;32mimport\u001b[0m \u001b[0mnumpy\u001b[0m \u001b[0;32mas\u001b[0m \u001b[0mnp\u001b[0m\u001b[0;34m\u001b[0m\u001b[0;34m\u001b[0m\u001b[0m\n\u001b[1;32m      4\u001b[0m \u001b[0;32mimport\u001b[0m \u001b[0mmatplotlib\u001b[0m\u001b[0;34m.\u001b[0m\u001b[0mpyplot\u001b[0m \u001b[0;32mas\u001b[0m \u001b[0mplt\u001b[0m\u001b[0;34m\u001b[0m\u001b[0;34m\u001b[0m\u001b[0m\n\u001b[0;32m----> 5\u001b[0;31m \u001b[0;32mimport\u001b[0m \u001b[0mskimage\u001b[0m\u001b[0;34m.\u001b[0m\u001b[0mio\u001b[0m\u001b[0;34m\u001b[0m\u001b[0;34m\u001b[0m\u001b[0m\n\u001b[0m",
      "\u001b[0;31mModuleNotFoundError\u001b[0m: No module named 'skimage'"
     ]
    }
   ],
   "source": [
    "import os\n",
    "import cv2\n",
    "import numpy as np\n",
    "import matplotlib.pyplot as plt\n",
    "import skimage.io\n"
   ]
  },
  {
   "cell_type": "code",
   "execution_count": 3,
   "metadata": {},
   "outputs": [],
   "source": [
    "lis = [\"175 333 356 329 108 236\",\n",
    "\"327 426 126 397 303 301\",\n",
    "\"348 244 220 220 391 395\",\n",
    "\"204 208 256 324 392 250\",\n",
    "\"214 415 262 236 361 434\",\n",
    "\"199 322 244 219 301 378\",\n",
    "\"313 324 137 282 106 255\",\n",
    "\"368 258 216 416 161 444\",\n",
    "\"205 316 358 289 157 348\",\n",
    "\"335 263 162 232 383 303\",\n",
    "\"278 269 287 336 176 328\",\n",
    "\"223 313 200 371 370 478\",\n",
    "\"249 339 364 333 247 393\",\n",
    "\"244 285 148 366 304 329\",\n",
    "\"272 284 389 332 217 301\",\n",
    "\"259 377 121 385 339 402\",\n",
    "\"202 289 344 339 139 295\",\n",
    "\"282 342 110 334 341 368\",\n",
    "\"300 250 341 273 188 387\",\n",
    "\"279 307 185 321 377 372\"]"
   ]
  },
  {
   "cell_type": "code",
   "execution_count": 18,
   "metadata": {},
   "outputs": [],
   "source": [
    "os.mkdir(\"distorted\")"
   ]
  },
  {
   "cell_type": "code",
   "execution_count": 30,
   "metadata": {},
   "outputs": [],
   "source": [
    "for img_name in os.listdir(\"original\"):\n",
    "    read_path = \"original/\" + img_name\n",
    "    write_path = \"distorted/\" + img_name\n",
    "    img1 = cv2.imread(read_path, -1)\n",
    "    img1 = cv2.cvtColor(img1, 1)\n",
    "\n",
    "    rows, columns, channels = img1.shape\n",
    "\n",
    "    lefts = np.random.randint(0, 10)\n",
    "    lefts *= 2\n",
    "    rights = lefts + 1\n",
    "\n",
    "    lefts = [int(x) for x in lis[lefts].split()]\n",
    "    rights = [int(x) for x in lis[rights].split()]\n",
    "\n",
    "    a, b, c, d, e, f = lefts\n",
    "    g, h, i, j, k, l = rights\n",
    "\n",
    "    point1 = np.float32([[a, b], [c, d], [e, f]])\n",
    "    point2 = np.float32([[g, h], [i, j], [k, l]])\n",
    "\n",
    "\n",
    "    A = cv2.getAffineTransform(point1, point2)\n",
    "\n",
    "#     print(A)\n",
    "\n",
    "\n",
    "    output = cv2.warpAffine(img1, A, (columns, rows))\n",
    "    cv2.imwrite(write_path, output)\n",
    "\n",
    "#     plt.imshow(output)\n",
    "#     plt.title('Transformed Image')\n",
    "#     plt.show()"
   ]
  },
  {
   "cell_type": "code",
   "execution_count": null,
   "metadata": {},
   "outputs": [],
   "source": []
  }
 ],
 "metadata": {
  "kernelspec": {
   "display_name": "Python (PyTorch)",
   "language": "python",
   "name": "pytorch"
  },
  "language_info": {
   "codemirror_mode": {
    "name": "ipython",
    "version": 3
   },
   "file_extension": ".py",
   "mimetype": "text/x-python",
   "name": "python",
   "nbconvert_exporter": "python",
   "pygments_lexer": "ipython3",
   "version": "3.7.6"
  }
 },
 "nbformat": 4,
 "nbformat_minor": 4
}
