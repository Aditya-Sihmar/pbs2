{
 "cells": [
  {
   "cell_type": "code",
   "execution_count": null,
   "metadata": {},
   "outputs": [],
   "source": [
    "import os\n",
    "from zipfile import ZipFile\n",
    "from PIL import Image\n",
    "import numpy as np\n",
    "import torchvision.transforms as transforms\n",
    "from random import randint, seed\n",
    "\n",
    "train_path = 'C:\\\\Users\\\\Nikhil\\\\Desktop\\\\Python\\\\New folder\\\\data\\\\helen1'\n",
    "anno_path = 'C:\\\\Users\\\\Nikhil\\\\Desktop\\\\Python\\\\New folder\\\\data\\\\annotation'\n",
    "def anotation(path):    \n",
    "    anotation_path = path\n",
    "    anotations = [[] for s in range(2330)]\n",
    "    n = 0\n",
    "    imges = []\n",
    "    for anot in os.listdir(anotation_path):\n",
    "        xes = []\n",
    "        yes = []\n",
    "        f = open(os.path.join(anotation_path, anot), 'r')\n",
    "        pntr = 0\n",
    "        for line in f:\n",
    "            if pntr == 0:\n",
    "                line = line.strip(\"\\n\")\n",
    "                img = Image.open(train_path + \"\\\\\" +line +'.jpg')\n",
    "                imges.append(img)         \n",
    "\n",
    "            if pntr != 0:\n",
    "                x, y = line.split(',')\n",
    "                xes.append(float(x))\n",
    "                yes.append(float(y))\n",
    "            pntr += 1\n",
    "        for s in range(len(xes)-1):\n",
    "            anotations[n].append([xes[s], yes[s]])\n",
    "        n += 1\n",
    "    return  anotations,imges\n",
    "\n",
    "\n",
    "def old_image_size(image):\n",
    "    return image.size\n",
    "\n",
    "def image_size_storage(i):\n",
    "    sto = {}\n",
    "    for k,img in enumerate(i):\n",
    "        sto[str(k)] = old_image_size(i[k])\n",
    "    return sto\n",
    "\n",
    "def image_resize_bw(img, size = (340,255)):\n",
    "    for i in range(len(img)):\n",
    "        img[i] = img[i].resize(size).convert('L')\n",
    "    \n",
    "def rescale_anno(sto, a, scale=(340,255)):\n",
    "    for i in range(len(sto)):\n",
    "        width,height = sto[str(i)]\n",
    "        xf,yf = width/scale[0], height/scale[1]\n",
    "        l = a[i]\n",
    "        for j in range(len(l)):\n",
    "            l[j][0] /=xf\n",
    "            l[j][1] /= yf\n",
    "    return 0\n",
    "def tens(img):\n",
    "    pil2tensor = transforms.ToTensor()\n",
    "    a = pil2tensor(img)\n",
    "    a = a.unsqueeze(0)\n",
    "    return a\n",
    "    \n",
    "def image_totensor(i):\n",
    "    ten =[]\n",
    "    for j in range(int(len(i))):\n",
    "        bw_image = tens(i[j])\n",
    "        ten.append(bw_image)\n",
    "    return ten\n",
    "\n",
    "a,i = anotation(anno_path)\n",
    "sto = image_size_storage(i)\n",
    "rescale_anno(sto,a)\n",
    "image_resize_bw(i)\n",
    "\n"
   ]
  },
  {
   "cell_type": "code",
   "execution_count": null,
   "metadata": {},
   "outputs": [],
   "source": [
    "import math\n",
    "\n",
    "def rotate_points(origin, point, angle):\n",
    "    angle= angle*math.pi/180\n",
    "    ox, oy = origin\n",
    "    px, py = point\n",
    "\n",
    "    qx = ox + math.cos(angle) * (px - ox) - math.sin(angle) * (py - oy)\n",
    "    qy = oy + math.sin(angle) * (px - ox) + math.cos(angle) * (py - oy)\n",
    "    return qx, qy\n",
    "\n",
    "def rotate(img,a,angle):\n",
    "    x,y = img.size\n",
    "    z = []\n",
    "    for i in range(len(a)):\n",
    "        z.append(rotate_points((x/2,y/2),a[i],-angle))\n",
    "        \n",
    "    im = img.rotate(angle,center=(x/2,y/2))\n",
    "    return [im,z]\n",
    "\n",
    "def image_transform(im,an):\n",
    "    seed(104)\n",
    "    ima= []\n",
    "    anno = []\n",
    "    for i in im:\n",
    "        for j in an:\n",
    "            x,y = rotate(i,j,randint(0,360))\n",
    "            ima.append(x)\n",
    "            anno.append(y)\n",
    "    return [ima,anno]\n"
   ]
  },
  {
   "cell_type": "code",
   "execution_count": null,
   "metadata": {},
   "outputs": [],
   "source": [
    "from random import randint, seed"
   ]
  },
  {
   "cell_type": "code",
   "execution_count": null,
   "metadata": {},
   "outputs": [],
   "source": [
    "x, y = image_transform(i,a)"
   ]
  },
  {
   "cell_type": "code",
   "execution_count": null,
   "metadata": {},
   "outputs": [],
   "source": [
    "plt.imshow(vb.resize((340,255)))\n",
    "x, y = get_co(bv)\n",
    "plt.scatter(x, y)\n",
    "plt.show()"
   ]
  },
  {
   "cell_type": "code",
   "execution_count": null,
   "metadata": {},
   "outputs": [],
   "source": []
  },
  {
   "cell_type": "code",
   "execution_count": null,
   "metadata": {},
   "outputs": [],
   "source": [
    "ten = image_totensor(i)"
   ]
  }
 ],
 "metadata": {
  "kernelspec": {
   "display_name": "Python 3",
   "language": "python",
   "name": "python3"
  },
  "language_info": {
   "codemirror_mode": {
    "name": "ipython",
    "version": 3
   },
   "file_extension": ".py",
   "mimetype": "text/x-python",
   "name": "python",
   "nbconvert_exporter": "python",
   "pygments_lexer": "ipython3",
   "version": "3.6.10"
  }
 },
 "nbformat": 4,
 "nbformat_minor": 4
}
